{
  "nbformat": 4,
  "nbformat_minor": 0,
  "metadata": {
    "colab": {
      "name": "Untitled1.ipynb",
      "provenance": [],
      "collapsed_sections": [],
      "authorship_tag": "ABX9TyMPoYFCbhdZzhxGvPacwGi0",
      "include_colab_link": true
    },
    "kernelspec": {
      "name": "python3",
      "display_name": "Python 3"
    },
    "language_info": {
      "name": "python"
    }
  },
  "cells": [
    {
      "cell_type": "markdown",
      "metadata": {
        "id": "view-in-github",
        "colab_type": "text"
      },
      "source": [
        "<a href=\"https://colab.research.google.com/github/JesusEspinosaFCFM/Mineria/blob/main/Ej_Python_1941500.ipynb\" target=\"_parent\"><img src=\"https://colab.research.google.com/assets/colab-badge.svg\" alt=\"Open In Colab\"/></a>"
      ]
    },
    {
      "cell_type": "markdown",
      "metadata": {
        "id": "fiUdLJBDYq2P"
      },
      "source": [
        "**Ejercicio 1**"
      ]
    },
    {
      "cell_type": "code",
      "metadata": {
        "id": "5CTmCpuWaezd"
      },
      "source": [
        "#Realiza una variable con tu matricula y realiza una secuencia de imprimir con tu nombre y tu matricula concatenados.\n",
        "mat=int(input(\"Introduce tu matricula:\"))\n",
        "print()\n",
        "nom=input(\"Introduce tu nombre:\")\n",
        "print()\n",
        "print(\"Nombre: %s, Matricula:%d\" %(nom,mat))\n"
      ],
      "execution_count": null,
      "outputs": []
    },
    {
      "cell_type": "markdown",
      "metadata": {
        "id": "vVmeyHKibusB"
      },
      "source": [
        "**Ejercicio 2**"
      ]
    },
    {
      "cell_type": "code",
      "metadata": {
        "id": "_zWd_Flhb1r6"
      },
      "source": [
        "#Pidiendo el input del usuario pide dos números y crea una pequeña calculadora con los operadores básicos de suma, resta, multiplicación, división, y exponente.\n",
        "num1=int(input(\"Ingrese un número:\"))\n",
        "print()\n",
        "num2=int(input(\"Ingrese otro número:\"))\n",
        "print()\n",
        "numop=int(input(\"Seleccione la operación a realizar: 1.-Suma, 2.-Resta, 3.-Multiplicación, 4.-División, 5.-Exponente\"))\n",
        "print()\n",
        "if (numop == 1):\n",
        "    resul=num1+num2\n",
        "elif (numop == 2):\n",
        "    resul=num1-num2\n",
        "elif (numop == 3):\n",
        "    resul=num1*num2\n",
        "elif (numop == 4):\n",
        "    resul=num1/num2\n",
        "elif (numop == 5): \n",
        "    resul=num1**num2\n",
        "else:\n",
        "    print(\"Error\")\n",
        "\n",
        "print(\"El resultado de la operación es:\",resul)"
      ],
      "execution_count": null,
      "outputs": []
    },
    {
      "cell_type": "markdown",
      "metadata": {
        "id": "WlYfkI7BFIoO"
      },
      "source": [
        "**Ejemplo 3**"
      ]
    },
    {
      "cell_type": "code",
      "metadata": {
        "id": "nqx7BG6UFL1S"
      },
      "source": [
        "#Con loop while o for, realiza una lista de 10 numeros multiplos de 3, y después realiza una función de loop que sume todos los números dentro del arreglo.\n",
        "import random as rd\n",
        "suma=0\n",
        "\n",
        "for i in range(0,10):\n",
        "  num=rd.randint(1,20)\n",
        "  num3=num*3\n",
        "  suma=suma+num3\n",
        "  print(num3)\n",
        "  \n",
        "print()\n",
        "print(\"La suma es:\", suma)  \n"
      ],
      "execution_count": null,
      "outputs": []
    },
    {
      "cell_type": "markdown",
      "metadata": {
        "id": "qDj6FoAWHF24"
      },
      "source": [
        "**Ejemplo 4**"
      ]
    },
    {
      "cell_type": "code",
      "metadata": {
        "id": "v0w1uKJHHNTT"
      },
      "source": [
        "#Con una función de if else, revisar si un número es par o es impar.\n",
        "#Con una función de if else, revisar si un número es primo o no.\n",
        "import random as rd\n",
        "num=rd.randint(1,50)\n",
        "cont=0\n",
        "print(num)\n",
        "\n",
        "for i in range(1,50):\n",
        "  if num %i == 0:\n",
        "    cont=cont+1\n",
        "\n",
        "if num == 2:\n",
        "  print(\"El número es par y primo\")\n",
        "elif (num %2 == 0):\n",
        "  print(\"El número es par y no primo\")\n",
        "elif (cont == 2):\n",
        "  print(\"El número es impar y primo\")\n",
        "else:\n",
        "  print(\"El número es impar y no primo\")\n",
        "\n",
        "\n"
      ],
      "execution_count": null,
      "outputs": []
    },
    {
      "cell_type": "markdown",
      "metadata": {
        "id": "8l64o3DYM8Py"
      },
      "source": [
        "**Ejemplo 5**"
      ]
    },
    {
      "cell_type": "code",
      "metadata": {
        "id": "K35V5MI5S9zy"
      },
      "source": [
        "#Utilizando diferentes clases en python, crea una calculadora con los operadores básicos de suma, resta, multiplicación, división, y exponente.\n",
        "num1=int(input(\"Ingrese un número:\"))\n",
        "print()\n",
        "num2=int(input(\"Ingrese otro número:\"))\n",
        "print()\n",
        "numop=int(input(\"Seleccione la operación a realizar: 1.-Suma, 2.-Resta, 3.-Multiplicación, 4.-División, 5.-Exponente\"))\n",
        "print()\n",
        "class Suma:\n",
        "  resul=num1+num2\n",
        "  \n",
        "class Resta:\n",
        "  resul=num1-num2\n",
        "  \n",
        "class Mult:\n",
        "  resul=num1*num2\n",
        "  \n",
        "class Div:\n",
        "  resul=num1/num2\n",
        "  \n",
        "class Exp: \n",
        "  resul=num1**num2\n",
        "  \n",
        "if (numop == 1):\n",
        "    sa=Suma()\n",
        "    print(\"El resultado de la operación es:\",sa.resul)\n",
        "elif (numop == 2):\n",
        "    ra=Resta()\n",
        "    print(\"El resultado de la operación es:\",ra.resul)\n",
        "elif (numop == 3):\n",
        "    mn=Mult()\n",
        "    print(\"El resultado de la operación es:\",mn.resul)\n",
        "elif (numop == 4):\n",
        "    dn=Div()\n",
        "    print(\"El resultado de la operación es:\",dn.resul)\n",
        "elif (numop == 5): \n",
        "    ee=Exp()\n",
        "    print(\"El resultado de la operación es:\",ee.resul)   \n",
        "else:\n",
        "    print(\"Error\")\n",
        "\n",
        "\n"
      ],
      "execution_count": null,
      "outputs": []
    },
    {
      "cell_type": "markdown",
      "metadata": {
        "id": "dbSfJMZLgjRw"
      },
      "source": [
        "**Ejercico Tuplas**"
      ]
    },
    {
      "cell_type": "code",
      "metadata": {
        "id": "_OpkcSIkgr5a"
      },
      "source": [
        "#Crear una variable flotante, integer, boleana y compleja e imprimir el tipo de variable que es.\n",
        "A=3.75\n",
        "print(type(A))\n",
        "B=3\n",
        "print(type(B))\n",
        "C=True\n",
        "print(type(C))\n",
        "D=3j\n",
        "print(type(D))\n",
        "print()\n",
        "\n",
        "#Crear una tupla con valores enteros imprimir el primer y ultimo valor.\n",
        "t1=(4,6,8,10,12)\n",
        "print(t1)\n",
        "print(\"Primer valor de la tupla:\",t1[0])\n",
        "print(\"último valor de la tupla:\",t1[4])\n",
        "\n",
        "#Añadir 3 valores de string a la tupla.\n",
        "t1 = t1.__add__(('Números','Pares','No primos'))\n",
        "print()\n",
        "print(\"Tupla modificada\",t1)\n",
        "print()\n",
        "\n",
        "#Verificar si una variable existe dentro de la tupla.\n",
        "print(4 in t1)\n",
        "print()\n",
        "print('a' in t1)"
      ],
      "execution_count": null,
      "outputs": []
    },
    {
      "cell_type": "markdown",
      "metadata": {
        "id": "ecYJkQ-NpuCy"
      },
      "source": [
        "**Ejercicio Listas**"
      ]
    },
    {
      "cell_type": "code",
      "metadata": {
        "id": "anfaBxstpz2J"
      },
      "source": [
        "#Crear una lista con 40 elementos aleatorios enteros.\n",
        "import random as rd\n",
        "l1=[]\n",
        "for i in range(0,40):\n",
        "  num=rd.randint(1,30)\n",
        "  l1.append(num)\n",
        "\n",
        "print(\"Lista\",l1)\n",
        "print()\n",
        "print(\"Longitud de la lista:\",len(l1))\n",
        "print()\n",
        "\n",
        "#Con una funcion crear dos listas nuevas a partir de la lista creada por numeros aleatorios, en la cual en una esten los elementos pares, y en la otra los elementos impares.\n",
        "P=[]\n",
        "I=[]\n",
        "\n",
        "for i in range(0,40):\n",
        "  if (l1[i] %2 == 0):\n",
        "    #P.append(par)\n",
        "    par=l1[i]\n",
        "    P.append(par)\n",
        "  else:\n",
        "    #I.append(impar)\n",
        "    impar=l1[i]\n",
        "    I.append(impar)\n",
        "\n",
        "#Crear dos variables con la longitud de ambas listas nuevas e imprimir las variables.\n",
        "print(P)\n",
        "lp=len(P)\n",
        "print(\"Longitud lista par:\",lp)\n",
        "print()\n",
        "print(I)   \n",
        "li=len(I)\n",
        "print(\"Longitud lista impar:\",li)\n",
        "print()\n",
        "\n",
        "#Ordenar los elementos de la lista par de mayor a menor, y los de la lista impar de menor a mayor.\n",
        "P.sort(reverse=True)\n",
        "print(\"Lista Par\",P)\n",
        "print()\n",
        "I.sort()\n",
        "print(\"Lista Impar\",I)\n",
        "print()\n",
        "\n",
        "#Utilizar al menos cuatro de las funciones de listas en python en la lista original de 40 elementos.\n",
        "l1.extend([24,30,48])\n",
        "print(\"Lista\",l1)\n",
        "print()\n",
        "l1.remove(5)\n",
        "print(\"Lista\",l1)\n",
        "print()\n",
        "l1.pop(2)\n",
        "print(\"Lista\",l1)\n",
        "print()\n",
        "l1.clear()\n",
        "print(\"Lista\",l1)\n"
      ],
      "execution_count": null,
      "outputs": []
    },
    {
      "cell_type": "markdown",
      "metadata": {
        "id": "Lcq7iV9SYAS0"
      },
      "source": [
        "**Ejercicio Diccionario**"
      ]
    },
    {
      "cell_type": "code",
      "metadata": {
        "id": "VictuUNwYE13"
      },
      "source": [
        "#Crear un diccionario de 6 personas que conozcas con su primer nombre y su edad.\n",
        "d1={'Ricardo':18,'Guillermo':21,'Carlos':20,'Alejandro':20,'Abigail':20,'Elias':19}\n",
        "print(\"Diccionario\",d1)\n",
        "print()\n",
        "\n",
        "#Crear una lista con los valores de la edad y reacomodar la lista de menor a mayor valor.\n",
        "edad=[]\n",
        "for claves in d1:\n",
        "  edad.append(d1[claves])\n",
        "\n",
        "print(\"Edades\",edad)\n",
        "edad.sort()\n",
        "print(\"Edades\",edad)\n",
        "print()\n",
        "\n",
        "#Usando el diccionario y un loop, imprimir solo los nombres.\n",
        "for claves in d1:\n",
        "  print(claves)\n",
        "\n",
        "print()\n",
        "\n",
        "#Añadir dos personas nuevas a tu diccionario, incluyendo edad.\n",
        "d1['Mario']=22\n",
        "d1['Eliud']=22\n",
        "print(\"Diccionario\",d1)"
      ],
      "execution_count": null,
      "outputs": []
    },
    {
      "cell_type": "markdown",
      "metadata": {
        "id": "SZIyIdezgrwW"
      },
      "source": [
        "**Ejercicio Set**"
      ]
    },
    {
      "cell_type": "code",
      "metadata": {
        "colab": {
          "base_uri": "https://localhost:8080/"
        },
        "id": "q0Vwo3f2gvt4",
        "outputId": "bd5501eb-36f3-4167-8931-ca88c25d8deb"
      },
      "source": [
        "#Crea un set con 100 numeros aleatorios enteros del 1 al 25.\n",
        "import random as rd\n",
        "set1=set()\n",
        "for i in range(0,100):\n",
        "  set1.add(num)\n",
        "  num=rd.randint(1,25)\n",
        "  \n",
        "\n",
        "print(\"Set\",set1)\n",
        "print()\n",
        "\n",
        "#Comprueba la longitud de tu set.\n",
        "print(\"Longitud del set:\", len(set1))\n",
        "print()\n",
        "\n",
        "#Crea una lista de 5 numeros aleatorios del 1 al 10 y comprueba si cada valor aparece en el set inicial.\n",
        "l2=[]\n",
        "for i in range (0,5):\n",
        "  l2.append(num)\n",
        "  num=rd.randint(1,10)\n",
        "\n",
        "print(\"Lista\",l2)\n",
        "print()\n",
        "\n",
        "for i in range (0,5):\n",
        "  print(\"Elemento de la lista:\",l2[i],\"Presencia en el set:\",l2[i] in set1)"
      ],
      "execution_count": 128,
      "outputs": [
        {
          "output_type": "stream",
          "text": [
            "Set {1, 2, 3, 4, 5, 6, 7, 8, 9, 10, 11, 12, 13, 14, 15, 16, 17, 18, 19, 20, 21, 22, 23, 24, 25}\n",
            "\n",
            "Longitud del set: 25\n",
            "\n",
            "Lista [12, 7, 4, 10, 7]\n",
            "\n",
            "Elemento de la lista: 12 Presencia en el set: True\n",
            "Elemento de la lista: 7 Presencia en el set: True\n",
            "Elemento de la lista: 4 Presencia en el set: True\n",
            "Elemento de la lista: 10 Presencia en el set: True\n",
            "Elemento de la lista: 7 Presencia en el set: True\n"
          ],
          "name": "stdout"
        }
      ]
    }
  ]
}